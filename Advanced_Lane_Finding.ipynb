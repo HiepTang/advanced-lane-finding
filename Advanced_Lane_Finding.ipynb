{
 "cells": [
  {
   "cell_type": "markdown",
   "metadata": {},
   "source": [
    "# Advanced Lane Finding Project\n",
    "\n",
    "---\n",
    "\n",
    "**Author:** Sergey Morozov\n",
    "\n",
    "---\n",
    "\n",
    "The goals / steps of this project are the following:\n",
    "\n",
    "* Compute the camera calibration matrix and distortion coefficients given a set of chessboard images.\n",
    "* Apply a distortion correction to raw images.\n",
    "* Use color transforms, gradients, etc., to create a thresholded binary image.\n",
    "* Apply a perspective transform to rectify binary image (\"birds-eye view\").\n",
    "* Detect lane pixels and fit to find the lane boundary.\n",
    "* Determine the curvature of the lane and vehicle position with respect to center.\n",
    "* Warp the detected lane boundaries back onto the original image.\n",
    "* Output visual display of the lane boundaries and numerical estimation of lane curvature and vehicle position."
   ]
  },
  {
   "cell_type": "code",
   "execution_count": null,
   "metadata": {},
   "outputs": [],
   "source": [
    "# set up logging\n",
    "import logging\n",
    "logging.basicConfig(level=logging.DEBUG, format=\"%(asctime)s [%(levelname)s] %(message)s\")\n",
    "\n",
    "# constants\n",
    "CHESSBOARD_IMAGE_DIR = \"chessboard_images\"\n",
    "TEST_IMAGE_DIR = \"test_images\"\n",
    "OUTPUT_IMAGE_DIR = \"output_images\"\n",
    "OUTPUT_VIDEO_DIR = \"output_videos\"\n",
    "\n",
    "# all lane finding code is in advanced_lane_finding.py\n",
    "from advanced_lane_finding import *\n",
    "\n",
    "# initialize class instance containing advanced lane line detection methods\n",
    "lane_finder = AdvancedLaneFinder(chessboard_image_dir=CHESSBOARD_IMAGE_DIR)"
   ]
  },
  {
   "cell_type": "markdown",
   "metadata": {},
   "source": [
    "## Compute Camera Calibration Matrix and Distortion Coefficients"
   ]
  },
  {
   "cell_type": "code",
   "execution_count": null,
   "metadata": {},
   "outputs": [],
   "source": [
    "import os\n",
    "import cv2\n",
    "import matplotlib.pyplot as plt\n",
    "%matplotlib inline\n",
    "\n",
    "# get calibration matrix and distortion coefficients\n",
    "cal_mtx, dist_coeffs, _, _ = lane_finder.calibrate_camera()\n",
    "\n",
    "# undistort chessboard image calibration2.jpg;\n",
    "# visially it is the mostly distorted image\n",
    "test_img = cv2.imread(os.path.join(CHESSBOARD_IMAGE_DIR, \"calibration2.jpg\"))\n",
    "\n",
    "# undistort test chessboard image\n",
    "test_img_undistorted = lane_finder.distortion_correction(image=test_img)\n",
    "\n",
    "# visualize undistortion\n",
    "f, (ax1, ax2) = plt.subplots(1, 2, figsize=(20,10))\n",
    "ax1.imshow(test_img)\n",
    "ax1.set_title('Original Image', fontsize=30)\n",
    "ax2.imshow(test_img_undistorted)\n",
    "ax2.set_title('Undistorted Image', fontsize=30)\n",
    "\n",
    "# save undistorted image\n",
    "if not os.path.isdir(OUTPUT_IMAGE_DIR):\n",
    "    os.mkdir(OUTPUT_IMAGE_DIR)\n",
    "\n",
    "undist_img_path = os.path.abspath(os.path.join(OUTPUT_IMAGE_DIR, \"chessboard_undistorted.jpg\"))\n",
    "ret = cv2.imwrite(undist_img_path, test_img_undistorted)\n",
    "logging.info(\"Undistorted chessboard image has been written to %s.\", undist_img_path)"
   ]
  },
  {
   "cell_type": "markdown",
   "metadata": {},
   "source": [
    "Note that in the initial set of chessboard images, provided by Udacity, image *calibration7.jpg* and *calibration15.jpg* had shape (1281, 721) while all other images had shape (1280, 720). These discrepancy led to inaccrate calculations. Images with incorrect shape (*calibration7.jpg* and *calibration15.jpg*) were cropped by 1 pixel and in this repository all images have (1280, 720) shape."
   ]
  },
  {
   "cell_type": "markdown",
   "metadata": {},
   "source": [
    "## Apply Distortion Correction to Raw Images"
   ]
  },
  {
   "cell_type": "code",
   "execution_count": null,
   "metadata": {},
   "outputs": [],
   "source": [
    "import cv2\n",
    "import os\n",
    "import matplotlib.pyplot as plt\n",
    "%matplotlib inline\n",
    "\n",
    "# undistort each image in TEST_IMAGE_DIR and save undistorted images to OUTPUT_IMAGE_DIR\n",
    "test_img_paths = os.listdir(TEST_IMAGE_DIR)\n",
    "\n",
    "for fname in test_img_paths:\n",
    "    img = cv2.imread(os.path.join(TEST_IMAGE_DIR, fname))\n",
    "    img_undist = lane_finder.distortion_correction(image=img)\n",
    "    \n",
    "    # save undistorted image\n",
    "    cv2.imwrite(os.path.join(OUTPUT_IMAGE_DIR, fname[0:-4] + \"_undistorted.jpg\"), img_undist)\n",
    "    \n",
    "# visualize undistortion\n",
    "f, (ax1, ax2) = plt.subplots(1, 2, figsize=(20,10))\n",
    "\n",
    "img = plt.imread(os.path.join(TEST_IMAGE_DIR, \"test1.jpg\"))\n",
    "ax1.imshow(img)\n",
    "ax1.set_title('Original Image', fontsize=30)\n",
    "\n",
    "img_undist = plt.imread(os.path.join(OUTPUT_IMAGE_DIR, \"test1_undistorted.jpg\"))\n",
    "ax2.imshow(img_undist)\n",
    "ax2.set_title('Undistorted Image', fontsize=30)"
   ]
  },
  {
   "cell_type": "markdown",
   "metadata": {},
   "source": [
    "## Create Thresholded Binary Images"
   ]
  },
  {
   "cell_type": "code",
   "execution_count": null,
   "metadata": {},
   "outputs": [],
   "source": [
    "import cv2 \n",
    "import os\n",
    "import matplotlib.pyplot as plt\n",
    "%matplotlib inline\n",
    "\n",
    "# apply thretholds for each image in TEST_IMAGE_DIR and save thresholded images to OUTPUT_IMAGE_DIR\n",
    "test_img_paths = os.listdir(TEST_IMAGE_DIR)\n",
    "\n",
    "for fname in test_img_paths:\n",
    "    img = cv2.imread(os.path.join(TEST_IMAGE_DIR, fname))\n",
    "    img_thresh = lane_finder.apply_thresholds(image=img)\n",
    "    \n",
    "    # save undistorted image\n",
    "    cv2.imwrite(os.path.join(OUTPUT_IMAGE_DIR, fname[0:-4] + \"_thresholded.jpg\"), img_thresh)\n",
    "\n",
    "# visualize thresholded images (use difficult cases)\n",
    "f, ((ax1, ax2), (ax3, ax4)) = plt.subplots(2, 2, figsize=(20,10))\n",
    "\n",
    "img = plt.imread(os.path.join(TEST_IMAGE_DIR, \"test4.jpg\"))\n",
    "ax1.imshow(img)\n",
    "ax1.set_title('Original Image', fontsize=30)\n",
    "\n",
    "img_thresh = plt.imread(os.path.join(OUTPUT_IMAGE_DIR, \"test4_thresholded.jpg\"))\n",
    "ax2.imshow(img_thresh, cmap='gray')\n",
    "ax2.set_title('Thresholded Image', fontsize=30)\n",
    "\n",
    "img = plt.imread(os.path.join(TEST_IMAGE_DIR, \"test5.jpg\"))\n",
    "ax3.imshow(img)\n",
    "ax3.set_title('Original Image', fontsize=30)\n",
    "\n",
    "img_thresh = plt.imread(os.path.join(OUTPUT_IMAGE_DIR, \"test5_thresholded.jpg\"))\n",
    "ax4.imshow(img_thresh, cmap='gray')\n",
    "ax4.set_title('Thresholded Image', fontsize=30)"
   ]
  }
 ],
 "metadata": {
  "kernelspec": {
   "display_name": "Python 3",
   "language": "python",
   "name": "python3"
  },
  "language_info": {
   "codemirror_mode": {
    "name": "ipython",
    "version": 3
   },
   "file_extension": ".py",
   "mimetype": "text/x-python",
   "name": "python",
   "nbconvert_exporter": "python",
   "pygments_lexer": "ipython3",
   "version": "3.5.2"
  },
  "widgets": {
   "state": {},
   "version": "1.1.2"
  }
 },
 "nbformat": 4,
 "nbformat_minor": 2
}
